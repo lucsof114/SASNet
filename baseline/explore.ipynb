{
 "cells": [
  {
   "cell_type": "markdown",
   "metadata": {},
   "source": [
    "# Getting Started"
   ]
  },
  {
   "cell_type": "markdown",
   "metadata": {},
   "source": [
    "### Loading the dataset "
   ]
  },
  {
   "cell_type": "code",
   "execution_count": 1,
   "metadata": {},
   "outputs": [],
   "source": [
    "from scipy.io import wavfile\n",
    "import os\n",
    "import numpy as np\n",
    "import matplotlib.pyplot as plt\n",
    "from scipy import signal"
   ]
  },
  {
   "cell_type": "code",
   "execution_count": 13,
   "metadata": {},
   "outputs": [],
   "source": [
    "class SongLoader:\n",
    "    \n",
    "    def __init__(self):\n",
    "        self.paths = []\n",
    "        \n",
    "    def append(self, x):\n",
    "        self.paths.append(x)\n",
    "    \n",
    "    def __getitem__(self, ind):\n",
    "        _, data = wavfile.read(self.paths[ind])\n",
    "        return data\n",
    "    \n",
    "    def concat_data(self):\n",
    "        out = []\n",
    "        for path in self.paths:\n",
    "            _, data = wavfile.read(path)\n",
    "            out.append(data[:7000000])\n",
    "        return np.vstack(out)\n",
    "\n",
    "    \n",
    "def loadDSD100(path):\n",
    "    mixPath = path + \"/Mixtures/\"\n",
    "    sourcePath = path + \"/Sources/\"\n",
    "    instruments = [\"bass\", \"drums\", \"vocals\", \"other\"]\n",
    "    out = { \"instruments\" : instruments,\n",
    "            \"fs\":  int(44.1 * 10e3), \n",
    "            \"Xtrain\": SongLoader(),  \n",
    "            \"Ytrain\": {}, \n",
    "            \"Xtest\" : SongLoader(),\n",
    "            \"Ytest\" : {} }\n",
    "\n",
    "    for inst in instruments:\n",
    "        out[\"Ytest\"][inst] = SongLoader()\n",
    "        out[\"Ytrain\"][inst] = SongLoader()\n",
    "    \n",
    "    for dtype in [\"Dev\", \"Test\"]:\n",
    "        Xmode, Ymode = [\"Xtrain\", \"Ytrain\"] if dtype == \"Dev\" else [\"Xtest\", \"Ytest\"]\n",
    "        for file in os.listdir(mixPath + dtype):\n",
    "            out[Xmode].append(mixPath + dtype + \"/\" + file + \"/mixture.wav\")\n",
    "        \n",
    "        for file in os.listdir(sourcePath + dtype):\n",
    "            for inst in instruments: \n",
    "                out[Ymode][inst].append(sourcePath + dtype + \"/\" + file + \"/\" + inst + \".wav\")\n",
    "    return out \n",
    "g"
   ]
  },
  {
   "cell_type": "markdown",
   "metadata": {},
   "source": [
    "### Plot DFTs "
   ]
  },
  {
   "cell_type": "code",
   "execution_count": null,
   "metadata": {},
   "outputs": [],
   "source": [
    "def plotDFT(x, title): \n",
    "    fig, axs = plt.subplots(2)\n",
    "    N = x.shape[0]\n",
    "    fs = data[\"fs\"]\n",
    "    time = np.arange(N) / fs\n",
    "    if N % 2:\n",
    "        N = N + 1\n",
    "    freq = fs * np.linspace(0, N//2, N//2+1, dtype=float) / N\n",
    "    Y = np.fft.fft(x, N, axis=0)\n",
    "    axs[0].plot(time ,x )\n",
    "    mags = abs(Y[0:N//2+1])\n",
    "    axs[1].plot(freq, np.log(mags))\n",
    "\n",
    "plotDFT(data[\"Xtrain\"][1][:,0], \"mix\")   \n",
    "\n"
   ]
  },
  {
   "cell_type": "markdown",
   "metadata": {},
   "source": [
    "### Spectrograms"
   ]
  },
  {
   "cell_type": "code",
   "execution_count": null,
   "metadata": {
    "scrolled": true
   },
   "outputs": [],
   "source": [
    "def plotSpectogram(x, title):\n",
    "    N = x.shape[0]\n",
    "    fs = data[\"fs\"]\n",
    "    f, t, Sxx = signal.stft(x, fs ,nperseg = 10000) #, nperseg = npseg, noverlap = npseg//8\n",
    "    plt.title(title)\n",
    "    plt.pcolormesh(t, f, np.log(np.abs(Sxx) + 1e-15), shading='gouraud')\n",
    "    plt.ylabel('Frequency [Hz]')\n",
    "    plt.xlabel('Time [sec]')\n",
    "    plt.show()\n",
    "\n",
    "plotSpectogram(data[\"Xtrain\"][4][:,0], \"mix\")   \n",
    "for k in data[\"instruments\"]: \n",
    "    plotSpectogram(data[\"Ytrain\"][k][4][:,0], k)"
   ]
  },
  {
   "cell_type": "markdown",
   "metadata": {},
   "source": [
    "### ICA"
   ]
  },
  {
   "cell_type": "code",
   "execution_count": 14,
   "metadata": {},
   "outputs": [
    {
     "name": "stdout",
     "output_type": "stream",
     "text": [
      "(350000000, 2)\n"
     ]
    }
   ],
   "source": [
    "from sklearn.decomposition import FastICA\n",
    "ica = FastICA(n_components = 2)\n",
    "X = data[\"Xtrain\"].concat_data()\n",
    "print(X.shape)\n"
   ]
  },
  {
   "cell_type": "code",
   "execution_count": 9,
   "metadata": {},
   "outputs": [
    {
     "name": "stdout",
     "output_type": "stream",
     "text": [
      "(12163922, 2)\n"
     ]
    }
   ],
   "source": [
    "S_ = ica.fit_transform(X)\n",
    "\n",
    "print(S_.shape)\n"
   ]
  }
 ],
 "metadata": {
  "kernelspec": {
   "display_name": "Python 3",
   "language": "python",
   "name": "python3"
  },
  "language_info": {
   "codemirror_mode": {
    "name": "ipython",
    "version": 3
   },
   "file_extension": ".py",
   "mimetype": "text/x-python",
   "name": "python",
   "nbconvert_exporter": "python",
   "pygments_lexer": "ipython3",
   "version": "3.8.3"
  }
 },
 "nbformat": 4,
 "nbformat_minor": 4
}
